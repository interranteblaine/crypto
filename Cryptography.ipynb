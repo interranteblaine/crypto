{
 "cells": [
  {
   "cell_type": "markdown",
   "metadata": {},
   "source": [
    "Caesar Cipher:\n",
    "decoder shifts the letters by n to the right\n",
    "coder shifts the letters by n to the left"
   ]
  },
  {
   "cell_type": "code",
   "execution_count": 7,
   "metadata": {},
   "outputs": [],
   "source": [
    "def decoder(message, offset):\n",
    "    alphabet = \"abcdefghijklmnopqrstuvwxyz\"\n",
    "    symbol_space = \".,?'!0123456789 \"\n",
    "    decoded_message = \"\"\n",
    "    for letter in message:\n",
    "        if not letter in symbol_space:\n",
    "            decoded_letter = alphabet[(alphabet.find(letter) + offset) % 26]\n",
    "            decoded_message += decoded_letter\n",
    "        else:\n",
    "            decoded_message += letter\n",
    "    print(decoded_message)\n",
    "\n",
    "def coder(message, offset):\n",
    "    alphabet = \"abcdefghijklmnopqrstuvwxyz\"\n",
    "    symbol_space = \".,?'!0123456789 \"\n",
    "    coded_message = \"\"\n",
    "    for letter in message:\n",
    "        if not letter in symbol_space:\n",
    "            coded_letter = alphabet[(alphabet.find(letter) - offset) % 26]\n",
    "            coded_message += coded_letter\n",
    "        else:\n",
    "            coded_message += letter\n",
    "    print(coded_message)\n",
    "    \n",
    "#coder(\"i love you\", 13)\n",
    "\n",
    "#decoder(\"v ybir lbh\", 13)"
   ]
  },
  {
   "cell_type": "markdown",
   "metadata": {},
   "source": [
    "For when the offset is unkown. Read through the output to find the deciphered message. "
   ]
  },
  {
   "cell_type": "code",
   "execution_count": 10,
   "metadata": {},
   "outputs": [],
   "source": [
    "def cipher(coded_message):\n",
    "    for index in range(1,5):\n",
    "        print(\"offset: \" + str(index))\n",
    "        print(decoder(coded_message, index))\n",
    "#coder(\"saide\", 3)\n",
    "#cipher(\"pxfab\")"
   ]
  },
  {
   "cell_type": "markdown",
   "metadata": {},
   "source": [
    "Vigenère Cipher:\n",
    "\n",
    "message:___________________b  a  r  r  y  i  s  t  h  e  s  p  y\n",
    "\n",
    "keyword phrase:____________d  o  g  d  o  g  d  o  g  d  o  g  d\n",
    "\n",
    "difference in place value:_4 14 15 12 16 24 11 21 25 22 22 17 5\n",
    "  \n",
    "coded message:_____________e  o  x  u  m  o  v  h  n  h  g  v b"
   ]
  },
  {
   "cell_type": "code",
   "execution_count": 13,
   "metadata": {},
   "outputs": [],
   "source": [
    "def vig_decoder(coded_message, keyword):\n",
    "    alphabet = \"abcdefghijklmnopqrstuvwxyz\"\n",
    "    symbols_space_nums = \".,?'!0123456789 \"\n",
    "    keyword_repeat = \"\"\n",
    "    while len(keyword_repeat) < len(coded_message):\n",
    "        keyword_repeat += keyword\n",
    "    key = keyword_repeat[0:len(coded_message)]\n",
    "    decoded_message = \"\"\n",
    "    for index in range(0,len(coded_message)):    \n",
    "        if not coded_message[index] in symbols_space_nums:\n",
    "            key_offset = alphabet.find(coded_message[index]) - alphabet.find(key[index])\n",
    "            decoded_message += alphabet[key_offset % 26]\n",
    "        else:\n",
    "            decoded_message += coded_message[index]\n",
    "    print(decoded_message)\n",
    "\n",
    "messymessage = \"dfc jhjj ifyh yf hrfgiv xulk? vmph bfzo! qtl eeh gvkszlfl yyvww kpi hpuvzx dl tzcgrywrxll!\"\n",
    "keyword = \"friends\"\n",
    "\n",
    "#vig_decoder(messymessage, keyword)\n",
    "#vig_decoder(\"eoxumovhnhgvb\", \"dog\")"
   ]
  },
  {
   "cell_type": "code",
   "execution_count": 15,
   "metadata": {},
   "outputs": [
    {
     "name": "stdout",
     "output_type": "stream",
     "text": [
      "bafbri hytz\n",
      "bubble butt\n"
     ]
    }
   ],
   "source": [
    "def vig_coder(message, keyword):\n",
    "    alphabet = \"abcdefghijklmnopqrstuvwxyz\"\n",
    "    symbols_space_nums = \".,?'!0123456789 \"\n",
    "    keyword_repeat = \"\"\n",
    "    while len(keyword_repeat) < len(message):\n",
    "        keyword_repeat += keyword\n",
    "    key = keyword_repeat[0:len(message)]\n",
    "    coded_message = \"\"\n",
    "    for index in range(0,len(message)):    \n",
    "        if not message[index] in symbols_space_nums:\n",
    "            key_offset = alphabet.find(message[index]) + alphabet.find(key[index])\n",
    "            coded_message += alphabet[key_offset % 26]\n",
    "        else:\n",
    "            coded_message += message[index]\n",
    "    print(coded_message)\n",
    "    \n",
    "vig_coder(\"bubble butt\", \"age\")\n",
    "vig_decoder(\"bafbri hytz\", \"age\")\n",
    "    \n",
    "#vig_coder(\"barryisthespy\", \"dog\")\n",
    "#vig_decoder(\"eoxumovhnhgvb\", \"dog\")"
   ]
  }
 ],
 "metadata": {
  "kernelspec": {
   "display_name": "Python 3",
   "language": "python",
   "name": "python3"
  },
  "language_info": {
   "codemirror_mode": {
    "name": "ipython",
    "version": 3
   },
   "file_extension": ".py",
   "mimetype": "text/x-python",
   "name": "python",
   "nbconvert_exporter": "python",
   "pygments_lexer": "ipython3",
   "version": "3.6.5"
  }
 },
 "nbformat": 4,
 "nbformat_minor": 2
}
